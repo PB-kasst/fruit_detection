{
 "cells": [
  {
   "cell_type": "code",
   "execution_count": 7,
   "metadata": {},
   "outputs": [],
   "source": [
    "from ultralytics import YOLO\n",
    "import cv2\n",
    "import math\n",
    "import os\n",
    "os.environ[\"KMP_DUPLICATE_LIB_OK\"]=\"TRUE\""
   ]
  },
  {
   "cell_type": "code",
   "execution_count": 8,
   "metadata": {},
   "outputs": [],
   "source": [
    "model = YOLO(\"C:/Users/eaguayo/Documents/ProjectBinder/General/Projects/00 DATASCIENCE/00_pilot/fruit_detection/notebooks/runs/detect/train4/weights/best.pt\")"
   ]
  },
  {
   "cell_type": "markdown",
   "metadata": {},
   "source": [
    "x0 = bounding_box['x'] - bounding_box['width'] / 2\n",
    "x1 = bounding_box['x'] + bounding_box['width'] / 2\n",
    "y0 = bounding_box['y'] - bounding_box['height'] / 2\n",
    "y1 = bounding_box['y'] + bounding_box['height'] / 2\n",
    "\n",
    "position coordinates: start = (x0, y0), end = (x1, y1)\n",
    "color = RGB-value for bounding box color, (0,0,0) is \"black\"\n",
    "thickness = stroke width/thickness of bounding box\n",
    "draw and place bounding boxes\n",
    "\n",
    "start_point = (int(x0), int(y0))\n",
    "end_point = (int(x1), int(y1))\n",
    "\n",
    "cv2.rectangle(img, start_point, end_point, color=(0,0,0), thickness=2)\n",
    "\n",
    "cv2.putText(\n",
    "    img, # PIL.Image object to place text on\n",
    "    'placeholder text',#text to place on image\n",
    "    (12, 12),#location of text in pixels\n",
    "    fontFace = cv2.FONT_HERSHEY_SIMPLEX, #text font\n",
    "    fontScale = 0.6,#font scale\n",
    "    color = (255, 255, 255),#text color in RGB\n",
    "    thickness=2#thickness/\"weight\" of text\n",
    "    )"
   ]
  },
  {
   "cell_type": "markdown",
   "metadata": {},
   "source": [
    "VIDEO"
   ]
  },
  {
   "cell_type": "code",
   "execution_count": 9,
   "metadata": {},
   "outputs": [
    {
     "ename": "NameError",
     "evalue": "name 'WEBCAM' is not defined",
     "output_type": "error",
     "traceback": [
      "\u001b[1;31m---------------------------------------------------------------------------\u001b[0m",
      "\u001b[1;31mNameError\u001b[0m                                 Traceback (most recent call last)",
      "Cell \u001b[1;32mIn[9], line 1\u001b[0m\n\u001b[1;32m----> 1\u001b[0m \u001b[38;5;28;01mif\u001b[39;00m \u001b[43mWEBCAM\u001b[49m:\n\u001b[0;32m      2\u001b[0m     \u001b[38;5;66;03m# start webcam\u001b[39;00m\n\u001b[0;32m      3\u001b[0m     cap \u001b[38;5;241m=\u001b[39m cv2\u001b[38;5;241m.\u001b[39mVideoCapture(\u001b[38;5;241m0\u001b[39m)\n\u001b[0;32m      4\u001b[0m     cap\u001b[38;5;241m.\u001b[39mset(\u001b[38;5;241m3\u001b[39m, \u001b[38;5;241m640\u001b[39m)\n",
      "\u001b[1;31mNameError\u001b[0m: name 'WEBCAM' is not defined"
     ]
    }
   ],
   "source": [
    "if WEBCAM:\n",
    "    # start webcam\n",
    "    cap = cv2.VideoCapture(0)\n",
    "    cap.set(3, 640)\n",
    "    cap.set(4, 480)\n",
    "    while True:\n",
    "        success, img = cap.read()\n",
    "        results = model(img, stream=True)\n",
    "\n",
    "        # coordinates\n",
    "        for r in results:\n",
    "            boxes = r.boxes\n",
    "\n",
    "            for box in boxes:\n",
    "                # bounding box\n",
    "                x1, y1, x2, y2 = box.xyxy[0]\n",
    "                x1, y1, x2, y2 = int(x1), int(y1), int(x2), int(y2) # convert to int values\n",
    "\n",
    "                # put box in cam\n",
    "                cv2.rectangle(img, (x1, y1), (x2, y2), (255, 0, 255), 3)\n",
    "\n",
    "                # confidence\n",
    "                confidence = math.ceil((box.conf[0]*100))/100\n",
    "                print(\"Confidence --->\",confidence)\n",
    "\n",
    "                # class name\n",
    "                cls = int(box.cls[0])\n",
    "                print(\"Class name -->\", \"Banana\")\n",
    "\n",
    "                # object details\n",
    "                org = [x1, y1]\n",
    "                font = cv2.FONT_HERSHEY_SIMPLEX\n",
    "                fontScale = 1\n",
    "                color = (255, 0, 0)\n",
    "                thickness = 2\n",
    "\n",
    "                cv2.putText(img, \"Banana\", org, font, fontScale, color, thickness)\n",
    "\n",
    "        cv2.imshow('Webcam', img)\n",
    "        if cv2.waitKey(1) == ord('q'):\n",
    "            break\n",
    "\n",
    "    cap.release()\n",
    "    cv2.destroyAllWindows()"
   ]
  },
  {
   "cell_type": "markdown",
   "metadata": {},
   "source": [
    "IMAGE"
   ]
  },
  {
   "cell_type": "code",
   "execution_count": 10,
   "metadata": {},
   "outputs": [
    {
     "name": "stdout",
     "output_type": "stream",
     "text": [
      "\n",
      "image 1/1 C:\\Users\\eaguayo\\Documents\\ProjectBinder\\General\\Projects\\00 DATASCIENCE\\00_pilot\\fruit_detection\\data\\raw\\test\\images\\IMG_0718_resized_jpg.rf.ed26e36d79fdc08716b3ec100df06a0c.jpg: 640x640 (no detections), 104.7ms\n",
      "Speed: 3.0ms preprocess, 104.7ms inference, 1.0ms postprocess per image at shape (1, 3, 640, 640)\n"
     ]
    }
   ],
   "source": [
    "results = model('C:/Users/eaguayo/Documents/ProjectBinder/General/Projects/00 DATASCIENCE/00_pilot/fruit_detection/data/raw/test/images/IMG_0718_resized_jpg.rf.ed26e36d79fdc08716b3ec100df06a0c.jpg')  # return a list of Results objects\n",
    "\n",
    "# Process results list\n",
    "for result in results:\n",
    "    boxes = result.boxes  # Boxes object for bounding box outputs\n",
    "    masks = result.masks  # Masks object for segmentation masks outputs\n",
    "    keypoints = result.keypoints  # Keypoints object for pose outputs\n",
    "    probs = result.probs  # Probs object for classification outputs\n",
    "    result.show()  # display to screen\n",
    "    result.save(filename='result.jpg')  # save to disk"
   ]
  }
 ],
 "metadata": {
  "kernelspec": {
   "display_name": "fruit_detection",
   "language": "python",
   "name": "python3"
  },
  "language_info": {
   "codemirror_mode": {
    "name": "ipython",
    "version": 3
   },
   "file_extension": ".py",
   "mimetype": "text/x-python",
   "name": "python",
   "nbconvert_exporter": "python",
   "pygments_lexer": "ipython3",
   "version": "3.12.2"
  }
 },
 "nbformat": 4,
 "nbformat_minor": 2
}
